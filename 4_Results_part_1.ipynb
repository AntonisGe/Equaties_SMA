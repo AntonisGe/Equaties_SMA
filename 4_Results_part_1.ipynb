{
  "nbformat": 4,
  "nbformat_minor": 0,
  "metadata": {
    "colab": {
      "name": "Untitled0.ipynb",
      "provenance": []
    },
    "kernelspec": {
      "name": "python3",
      "display_name": "Python 3"
    }
  },
  "cells": [
    {
      "cell_type": "markdown",
      "metadata": {
        "id": "JQ8w2YGF0aWf",
        "colab_type": "text"
      },
      "source": [
        "# Data Vis. & Results"
      ]
    },
    {
      "cell_type": "markdown",
      "metadata": {
        "id": "zmg7sCnW4EOZ",
        "colab_type": "text"
      },
      "source": [
        "## Running the script"
      ]
    },
    {
      "cell_type": "markdown",
      "metadata": {
        "id": "FJrva5rD1ksf",
        "colab_type": "text"
      },
      "source": [
        "Running the script will give each time the sequence towards a max point. Below is few examples for different starting points. Also for all combinations of moving averages tried it wiill; 1. save the trades in a folder and 2. the result in a csv file."
      ]
    },
    {
      "cell_type": "markdown",
      "metadata": {
        "id": "xZj7D_q-1bGg",
        "colab_type": "text"
      },
      "source": [
        "![alt text](https://drive.google.com/uc?id=12O8-P1HxjQe0DTw3euT0oT2oiK80bxWb)"
      ]
    },
    {
      "cell_type": "markdown",
      "metadata": {
        "id": "u9Lgs-Kc5GFD",
        "colab_type": "text"
      },
      "source": [
        "## Data Viz."
      ]
    },
    {
      "cell_type": "code",
      "metadata": {
        "id": "BZMwAiex0jDe",
        "colab_type": "code",
        "colab": {}
      },
      "source": [
        "import pandas as pd\n",
        "import numpy as np\n",
        "from matplotlib import pyplot\n",
        "from mpl_toolkits.mplot3d import Axes3D\n",
        "import datetime\n",
        "#!pip install yfinance\n",
        "import yfinance as yf"
      ],
      "execution_count": 0,
      "outputs": []
    },
    {
      "cell_type": "code",
      "metadata": {
        "id": "e-8TQ1J6lClc",
        "colab_type": "code",
        "colab": {
          "base_uri": "https://localhost:8080/",
          "height": 175
        },
        "outputId": "de1a4a88-9286-473b-d9ed-3cdd1feedf9e"
      },
      "source": [
        "df=pd.read_csv('result.csv')\n",
        "df.head(4)"
      ],
      "execution_count": 5,
      "outputs": [
        {
          "output_type": "execute_result",
          "data": {
            "text/html": [
              "<div>\n",
              "<style scoped>\n",
              "    .dataframe tbody tr th:only-of-type {\n",
              "        vertical-align: middle;\n",
              "    }\n",
              "\n",
              "    .dataframe tbody tr th {\n",
              "        vertical-align: top;\n",
              "    }\n",
              "\n",
              "    .dataframe thead th {\n",
              "        text-align: right;\n",
              "    }\n",
              "</style>\n",
              "<table border=\"1\" class=\"dataframe\">\n",
              "  <thead>\n",
              "    <tr style=\"text-align: right;\">\n",
              "      <th></th>\n",
              "      <th>sma_one</th>\n",
              "      <th>sma_two</th>\n",
              "      <th>result</th>\n",
              "    </tr>\n",
              "  </thead>\n",
              "  <tbody>\n",
              "    <tr>\n",
              "      <th>0</th>\n",
              "      <td>20</td>\n",
              "      <td>75</td>\n",
              "      <td>0.032797</td>\n",
              "    </tr>\n",
              "    <tr>\n",
              "      <th>1</th>\n",
              "      <td>20</td>\n",
              "      <td>78</td>\n",
              "      <td>0.034518</td>\n",
              "    </tr>\n",
              "    <tr>\n",
              "      <th>2</th>\n",
              "      <td>20</td>\n",
              "      <td>81</td>\n",
              "      <td>0.035011</td>\n",
              "    </tr>\n",
              "    <tr>\n",
              "      <th>3</th>\n",
              "      <td>20</td>\n",
              "      <td>84</td>\n",
              "      <td>0.034796</td>\n",
              "    </tr>\n",
              "  </tbody>\n",
              "</table>\n",
              "</div>"
            ],
            "text/plain": [
              "   sma_one  sma_two    result\n",
              "0       20       75  0.032797\n",
              "1       20       78  0.034518\n",
              "2       20       81  0.035011\n",
              "3       20       84  0.034796"
            ]
          },
          "metadata": {
            "tags": []
          },
          "execution_count": 5
        }
      ]
    },
    {
      "cell_type": "markdown",
      "metadata": {
        "id": "OKLiZIFclqEI",
        "colab_type": "text"
      },
      "source": [
        "We want to make a 3D graph with those results and change the color of the graph based on the value of result."
      ]
    },
    {
      "cell_type": "markdown",
      "metadata": {
        "id": "61E7llEOl4Pc",
        "colab_type": "text"
      },
      "source": [
        "So the colors will be:"
      ]
    },
    {
      "cell_type": "code",
      "metadata": {
        "id": "aOx0dcFtlJ-T",
        "colab_type": "code",
        "colab": {}
      },
      "source": [
        "R=0\n",
        "G=255\n",
        "B=150\n",
        "color_list=[]\n",
        "for i in range(151):\n",
        "    color_list.append('#%02x%02x%02x' % (R,G,B-i))\n",
        "R=0\n",
        "G=255\n",
        "B=0\n",
        "for i in range(256):\n",
        "    color_list.append('#%02x%02x%02x' % (R+i,G,B))\n",
        "R=255\n",
        "G=255\n",
        "B=0\n",
        "for i in range(256):\n",
        "    color_list.append('#%02x%02x%02x' % (R,G-i,B))"
      ],
      "execution_count": 0,
      "outputs": []
    },
    {
      "cell_type": "markdown",
      "metadata": {
        "id": "OWTa182wmSkY",
        "colab_type": "text"
      },
      "source": [
        "Matching values with colors."
      ]
    },
    {
      "cell_type": "code",
      "metadata": {
        "id": "LBAx-akFmXet",
        "colab_type": "code",
        "colab": {}
      },
      "source": [
        "value_splits=[(i/len(color_list))*(max(df['result'])-min(df['result']))+min(df['result']) for i in range(len(color_list)+1)]\n",
        "colors=[]\n",
        "for i in df['result']:\n",
        "    for v in range(1,len(value_splits)):\n",
        "        if value_splits[v-1]<=i and i<=value_splits[v]:\n",
        "            colors.append(color_list[v-1])"
      ],
      "execution_count": 0,
      "outputs": []
    },
    {
      "cell_type": "markdown",
      "metadata": {
        "id": "lz6tmCExmJRt",
        "colab_type": "text"
      },
      "source": [
        "The graph."
      ]
    },
    {
      "cell_type": "code",
      "metadata": {
        "id": "5JTvN-WGloUk",
        "colab_type": "code",
        "colab": {
          "base_uri": "https://localhost:8080/",
          "height": 319
        },
        "outputId": "3fda609e-e53f-4e09-ee1b-d144f2623aff"
      },
      "source": [
        "fig = pyplot.figure()\n",
        "\n",
        "ax = Axes3D(fig)\n",
        "ax.scatter(df['sma_one'],df['sma_two'],df['result'],c=colors)\n",
        "ax.grid(False)\n",
        "ax.set_zticks([])\n",
        "\n",
        "\n",
        "pyplot.show()"
      ],
      "execution_count": 9,
      "outputs": [
        {
          "output_type": "display_data",
          "data": {
            "image/png": "[encoded data removed]",
            "text/plain": [
              "<Figure size 432x288 with 1 Axes>"
            ]
          },
          "metadata": {
            "tags": []
          }
        }
      ]
    },
    {
      "cell_type": "markdown",
      "metadata": {
        "id": "V_4ZCaoQmeyT",
        "colab_type": "text"
      },
      "source": [
        "Or on 2D."
      ]
    },
    {
      "cell_type": "code",
      "metadata": {
        "id": "plgcQ6G9mLIr",
        "colab_type": "code",
        "colab": {
          "base_uri": "https://localhost:8080/",
          "height": 326
        },
        "outputId": "1c57b16a-00c2-4438-acf2-5e08a1d89aae"
      },
      "source": [
        "fig = pyplot.figure()\n",
        "x = np.linspace(0,50,10000)\n",
        "y = x\n",
        "pyplot.plot(x,y,color='black')\n",
        "ax = pyplot.subplot(111)\n",
        "ax.spines['top'].set_visible(False)\n",
        "ax.spines['right'].set_visible(False)\n",
        "pyplot.ylim(0,120)\n",
        "pyplot.xlim(0,50)\n",
        "pyplot.scatter(df['sma_one'],df['sma_two'],c=colors)\n",
        "pyplot.show()"
      ],
      "execution_count": 21,
      "outputs": [
        {
          "output_type": "stream",
          "text": [
            "/usr/local/lib/python3.6/dist-packages/ipykernel_launcher.py:5: MatplotlibDeprecationWarning: Adding an axes using the same arguments as a previous axes currently reuses the earlier instance.  In a future version, a new instance will always be created and returned.  Meanwhile, this warning can be suppressed, and the future behavior ensured, by passing a unique label to each axes instance.\n",
            "  \"\"\"\n"
          ],
          "name": "stderr"
        },
        {
          "output_type": "display_data",
          "data": {
            "image/png": "[encoded data removed]",
            "text/plain": [
              "<Figure size 432x288 with 1 Axes>"
            ]
          },
          "metadata": {
            "tags": []
          }
        }
      ]
    },
    {
      "cell_type": "markdown",
      "metadata": {
        "id": "CQqnVX5GpneG",
        "colab_type": "text"
      },
      "source": [
        "Finding the best pair."
      ]
    },
    {
      "cell_type": "code",
      "metadata": {
        "id": "9Gf6tSnimu-z",
        "colab_type": "code",
        "colab": {
          "base_uri": "https://localhost:8080/",
          "height": 35
        },
        "outputId": "220fa7e0-b6cc-44c2-cecd-7757d62889b1"
      },
      "source": [
        "index_of_best_pair=[i for i in df['result']].index(max(df['result']))\n",
        "sma_one=df['sma_one'][index_of_best_pair]\n",
        "sma_two=df['sma_two'][index_of_best_pair]\n",
        "print('Best pair is {} and {}'.format(sma_one,sma_two))"
      ],
      "execution_count": 24,
      "outputs": [
        {
          "output_type": "stream",
          "text": [
            "Best pair is 39 and 112\n"
          ],
          "name": "stdout"
        }
      ]
    },
    {
      "cell_type": "markdown",
      "metadata": {
        "id": "tnQeoG53qRxQ",
        "colab_type": "text"
      },
      "source": [
        "Examine that pair."
      ]
    },
    {
      "cell_type": "code",
      "metadata": {
        "id": "PqiDBknzp3rN",
        "colab_type": "code",
        "colab": {
          "base_uri": "https://localhost:8080/",
          "height": 175
        },
        "outputId": "799429d0-56ca-4626-c45d-e6078a21b672"
      },
      "source": [
        "best=pd.read_csv('39_112.csv')\n",
        "best.head(4)"
      ],
      "execution_count": 26,
      "outputs": [
        {
          "output_type": "execute_result",
          "data": {
            "text/html": [
              "<div>\n",
              "<style scoped>\n",
              "    .dataframe tbody tr th:only-of-type {\n",
              "        vertical-align: middle;\n",
              "    }\n",
              "\n",
              "    .dataframe tbody tr th {\n",
              "        vertical-align: top;\n",
              "    }\n",
              "\n",
              "    .dataframe thead th {\n",
              "        text-align: right;\n",
              "    }\n",
              "</style>\n",
              "<table border=\"1\" class=\"dataframe\">\n",
              "  <thead>\n",
              "    <tr style=\"text-align: right;\">\n",
              "      <th></th>\n",
              "      <th>Ticker</th>\n",
              "      <th>Date</th>\n",
              "      <th>Last date</th>\n",
              "      <th>Time</th>\n",
              "      <th>Profit</th>\n",
              "    </tr>\n",
              "  </thead>\n",
              "  <tbody>\n",
              "    <tr>\n",
              "      <th>0</th>\n",
              "      <td>AAPL</td>\n",
              "      <td>2009-04-01</td>\n",
              "      <td>2010-09-02</td>\n",
              "      <td>371</td>\n",
              "      <td>132.008461</td>\n",
              "    </tr>\n",
              "    <tr>\n",
              "      <th>1</th>\n",
              "      <td>AAPL</td>\n",
              "      <td>2010-09-14</td>\n",
              "      <td>2011-05-25</td>\n",
              "      <td>181</td>\n",
              "      <td>25.636051</td>\n",
              "    </tr>\n",
              "    <tr>\n",
              "      <th>2</th>\n",
              "      <td>AAPL</td>\n",
              "      <td>2011-07-25</td>\n",
              "      <td>2011-12-22</td>\n",
              "      <td>108</td>\n",
              "      <td>0.012551</td>\n",
              "    </tr>\n",
              "    <tr>\n",
              "      <th>3</th>\n",
              "      <td>AAPL</td>\n",
              "      <td>2012-01-06</td>\n",
              "      <td>2012-11-15</td>\n",
              "      <td>224</td>\n",
              "      <td>24.436550</td>\n",
              "    </tr>\n",
              "  </tbody>\n",
              "</table>\n",
              "</div>"
            ],
            "text/plain": [
              "  Ticker        Date   Last date  Time      Profit\n",
              "0   AAPL  2009-04-01  2010-09-02   371  132.008461\n",
              "1   AAPL  2010-09-14  2011-05-25   181   25.636051\n",
              "2   AAPL  2011-07-25  2011-12-22   108    0.012551\n",
              "3   AAPL  2012-01-06  2012-11-15   224   24.436550"
            ]
          },
          "metadata": {
            "tags": []
          },
          "execution_count": 26
        }
      ]
    },
    {
      "cell_type": "markdown",
      "metadata": {
        "id": "CXLB6ffurtpH",
        "colab_type": "text"
      },
      "source": [
        "So now we want to see if that would be profitable."
      ]
    },
    {
      "cell_type": "markdown",
      "metadata": {
        "id": "Li10eSWdrzJH",
        "colab_type": "text"
      },
      "source": [
        "Finding first date."
      ]
    },
    {
      "cell_type": "code",
      "metadata": {
        "id": "532bPX9lqZlk",
        "colab_type": "code",
        "colab": {
          "base_uri": "https://localhost:8080/",
          "height": 35
        },
        "outputId": "ea1c8cc5-005e-4490-c69f-d515ad451af5"
      },
      "source": [
        "first_date=datetime.date(2100,12,12)\n",
        "for i in best['Date']:\n",
        "  date_now=datetime.date(int(i.split('-')[0]),int(i.split('-')[1]),int(i.split('-')[2]))\n",
        "  if first_date>date_now:\n",
        "    first_date=date_now\n",
        "print('First date is {}'.format(str(first_date)))"
      ],
      "execution_count": 38,
      "outputs": [
        {
          "output_type": "stream",
          "text": [
            "First date is 2005-05-12\n"
          ],
          "name": "stdout"
        }
      ]
    },
    {
      "cell_type": "markdown",
      "metadata": {
        "id": "A-tdo-WOs9Dp",
        "colab_type": "text"
      },
      "source": [
        "We want to compare the strategy to the SP500"
      ]
    },
    {
      "cell_type": "code",
      "metadata": {
        "id": "qVaxFhqGsAyu",
        "colab_type": "code",
        "colab": {
          "base_uri": "https://localhost:8080/",
          "height": 175
        },
        "outputId": "5fe2dbe5-4670-4860-d13d-d31b248dfc9d"
      },
      "source": [
        "download=yf.download('SPY',start=str(first_date),end='2020-01-01',progress=False)\n",
        "sp500=pd.DataFrame()\n",
        "sp500['Date']=[i for i in download.index]\n",
        "sp500['Close']=[i for i in download['Close']]\n",
        "sp500.tail(4)"
      ],
      "execution_count": 48,
      "outputs": [
        {
          "output_type": "execute_result",
          "data": {
            "text/html": [
              "<div>\n",
              "<style scoped>\n",
              "    .dataframe tbody tr th:only-of-type {\n",
              "        vertical-align: middle;\n",
              "    }\n",
              "\n",
              "    .dataframe tbody tr th {\n",
              "        vertical-align: top;\n",
              "    }\n",
              "\n",
              "    .dataframe thead th {\n",
              "        text-align: right;\n",
              "    }\n",
              "</style>\n",
              "<table border=\"1\" class=\"dataframe\">\n",
              "  <thead>\n",
              "    <tr style=\"text-align: right;\">\n",
              "      <th></th>\n",
              "      <th>Date</th>\n",
              "      <th>Close</th>\n",
              "    </tr>\n",
              "  </thead>\n",
              "  <tbody>\n",
              "    <tr>\n",
              "      <th>3681</th>\n",
              "      <td>2019-12-26</td>\n",
              "      <td>322.940002</td>\n",
              "    </tr>\n",
              "    <tr>\n",
              "      <th>3682</th>\n",
              "      <td>2019-12-27</td>\n",
              "      <td>322.859985</td>\n",
              "    </tr>\n",
              "    <tr>\n",
              "      <th>3683</th>\n",
              "      <td>2019-12-30</td>\n",
              "      <td>321.079987</td>\n",
              "    </tr>\n",
              "    <tr>\n",
              "      <th>3684</th>\n",
              "      <td>2019-12-31</td>\n",
              "      <td>321.859985</td>\n",
              "    </tr>\n",
              "  </tbody>\n",
              "</table>\n",
              "</div>"
            ],
            "text/plain": [
              "           Date       Close\n",
              "3681 2019-12-26  322.940002\n",
              "3682 2019-12-27  322.859985\n",
              "3683 2019-12-30  321.079987\n",
              "3684 2019-12-31  321.859985"
            ]
          },
          "metadata": {
            "tags": []
          },
          "execution_count": 48
        }
      ]
    },
    {
      "cell_type": "markdown",
      "metadata": {
        "id": "JbiUa_eowQCQ",
        "colab_type": "text"
      },
      "source": [
        "We want to find two things. One is how many trades would be available each day. And number two compare our profits with SP. From that we can also calculate max dragdown."
      ]
    },
    {
      "cell_type": "code",
      "metadata": {
        "id": "iamKo8Sqwd9Q",
        "colab_type": "code",
        "colab": {
          "base_uri": "https://localhost:8080/",
          "height": 35
        },
        "outputId": "8281665d-6f8c-4966-b298-4002231b28c3"
      },
      "source": [
        "def convert_string_to_date(string):\n",
        "  return(datetime.date(int(string.split('-')[0]),int(string.split('-')[1]),int(string.split('-')[2])))\n",
        "\n",
        "convert_string_to_date('2020-01-01') #Example"
      ],
      "execution_count": 50,
      "outputs": [
        {
          "output_type": "execute_result",
          "data": {
            "text/plain": [
              "datetime.date(2020, 1, 1)"
            ]
          },
          "metadata": {
            "tags": []
          },
          "execution_count": 50
        }
      ]
    },
    {
      "cell_type": "code",
      "metadata": {
        "id": "TXoUTiI6w69Q",
        "colab_type": "code",
        "colab": {}
      },
      "source": [
        ""
      ],
      "execution_count": 0,
      "outputs": []
    }
  ]
}
