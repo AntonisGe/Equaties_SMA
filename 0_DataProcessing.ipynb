{
  "nbformat": 4,
  "nbformat_minor": 0,
  "metadata": {
    "colab": {
      "name": "DataProcessing.ipynb",
      "provenance": [],
      "collapsed_sections": []
    },
    "kernelspec": {
      "name": "python3",
      "display_name": "Python 3"
    }
  },
  "cells": [
    {
      "cell_type": "markdown",
      "metadata": {
        "id": "IJnLC1tbkC2s",
        "colab_type": "text"
      },
      "source": [
        "# Objective: For each stock: have a csv file with date,close price, and the rank of market cap"
      ]
    },
    {
      "cell_type": "markdown",
      "metadata": {
        "id": "KwA3UUviqMNT",
        "colab_type": "text"
      },
      "source": [
        "## Step 1: Download Fundamental Data"
      ]
    },
    {
      "cell_type": "markdown",
      "metadata": {
        "id": "6bs_E3PRkXr0",
        "colab_type": "text"
      },
      "source": [
        "We are going to do it only for 10 stocks, because of memory limitations on google colab. Locally on a computer can be done for 545 stocks."
      ]
    },
    {
      "cell_type": "code",
      "metadata": {
        "id": "HYNDo8-GjmVE",
        "colab_type": "code",
        "colab": {}
      },
      "source": [
        "stocks=['FB','AAPL','MSFT','GOOG','JPM','V','AIG','TSLA','BAC']"
      ],
      "execution_count": 0,
      "outputs": []
    },
    {
      "cell_type": "markdown",
      "metadata": {
        "id": "nOJcAoMrk6FH",
        "colab_type": "text"
      },
      "source": [
        "The fundamental data can be found on http://www.stockpup.com/data.\n",
        "Using inspect element we can find a link to download the files from Python. To download all 545 stocks we can have a list of 3000 stocks and 'try' to find which ones are his website."
      ]
    },
    {
      "cell_type": "code",
      "metadata": {
        "id": "t56DvqQgk2hA",
        "colab_type": "code",
        "colab": {}
      },
      "source": [
        "import pandas as pd\n",
        "import os"
      ],
      "execution_count": 0,
      "outputs": []
    },
    {
      "cell_type": "code",
      "metadata": {
        "id": "CthKdPBdlOHT",
        "colab_type": "code",
        "colab": {}
      },
      "source": [
        "#os.mkdir('Fundamental_Data')"
      ],
      "execution_count": 0,
      "outputs": []
    },
    {
      "cell_type": "code",
      "metadata": {
        "id": "aWXejC4SlZYu",
        "colab_type": "code",
        "colab": {}
      },
      "source": [
        "path='http://www.stockpup.com/data/{}_quarterly_financial_data.csv'\n",
        "for stock in stocks:\n",
        "  try: # in this case it is not needed. But if we are going for 545 stocks, some stocks might not work.\n",
        "    df=pd.read_csv(path.format(stock))\n",
        "    save=pd.DataFrame()\n",
        "    save['Quarter end']=[i for i in df['Quarter end']]\n",
        "    save['Shares']=[i for i in df['Shares']]\n",
        "    save.to_csv('Fundamental_Data\\{}.csv'.format(stock),index=False)\n",
        "  except:\n",
        "    pass"
      ],
      "execution_count": 0,
      "outputs": []
    },
    {
      "cell_type": "code",
      "metadata": {
        "id": "7ZvdOhYQrKZ3",
        "colab_type": "code",
        "colab": {
          "base_uri": "https://localhost:8080/",
          "height": 143
        },
        "outputId": "ffc0d4c9-344e-4a91-e2ae-60538aa00d03"
      },
      "source": [
        "pd.read_csv('Fundamental_Data\\\\AAPL.csv').head(3) # Example"
      ],
      "execution_count": 74,
      "outputs": [
        {
          "output_type": "execute_result",
          "data": {
            "text/html": [
              "<div>\n",
              "<style scoped>\n",
              "    .dataframe tbody tr th:only-of-type {\n",
              "        vertical-align: middle;\n",
              "    }\n",
              "\n",
              "    .dataframe tbody tr th {\n",
              "        vertical-align: top;\n",
              "    }\n",
              "\n",
              "    .dataframe thead th {\n",
              "        text-align: right;\n",
              "    }\n",
              "</style>\n",
              "<table border=\"1\" class=\"dataframe\">\n",
              "  <thead>\n",
              "    <tr style=\"text-align: right;\">\n",
              "      <th></th>\n",
              "      <th>Quarter end</th>\n",
              "      <th>Shares</th>\n",
              "    </tr>\n",
              "  </thead>\n",
              "  <tbody>\n",
              "    <tr>\n",
              "      <th>0</th>\n",
              "      <td>2019-09-28</td>\n",
              "      <td>4443265000</td>\n",
              "    </tr>\n",
              "    <tr>\n",
              "      <th>1</th>\n",
              "      <td>2019-06-29</td>\n",
              "      <td>4519180000</td>\n",
              "    </tr>\n",
              "    <tr>\n",
              "      <th>2</th>\n",
              "      <td>2019-03-30</td>\n",
              "      <td>4601075000</td>\n",
              "    </tr>\n",
              "  </tbody>\n",
              "</table>\n",
              "</div>"
            ],
            "text/plain": [
              "  Quarter end      Shares\n",
              "0  2019-09-28  4443265000\n",
              "1  2019-06-29  4519180000\n",
              "2  2019-03-30  4601075000"
            ]
          },
          "metadata": {
            "tags": []
          },
          "execution_count": 74
        }
      ]
    },
    {
      "cell_type": "markdown",
      "metadata": {
        "id": "3nAh45nQqQwM",
        "colab_type": "text"
      },
      "source": [
        "## Step 2: Find the market cap for each stock and each month"
      ]
    },
    {
      "cell_type": "markdown",
      "metadata": {
        "id": "eCWb3Y9nqsaO",
        "colab_type": "text"
      },
      "source": [
        "We want all dates after 2005. Before that it becomes too old. The code below we make a list with all months in those years, in the format '2020-01-31'."
      ]
    },
    {
      "cell_type": "code",
      "metadata": {
        "id": "fWgEFjdepu2W",
        "colab_type": "code",
        "colab": {
          "base_uri": "https://localhost:8080/",
          "height": 35
        },
        "outputId": "ee8483b0-d084-4256-fd8c-755f1d1f9e31"
      },
      "source": [
        "dates=['2004-12']\n",
        "for i in range(2005,2020):\n",
        "    for j in range(1,13):\n",
        "        if j<10:\n",
        "            dates.append(str(i)+'-0'+str(j))\n",
        "        else:\n",
        "            dates.append(str(i)+'-'+str(j))\n",
        "\n",
        "dates[:5] #Example"
      ],
      "execution_count": 75,
      "outputs": [
        {
          "output_type": "execute_result",
          "data": {
            "text/plain": [
              "['2004-12', '2005-01', '2005-02', '2005-03', '2005-04']"
            ]
          },
          "metadata": {
            "tags": []
          },
          "execution_count": 75
        }
      ]
    },
    {
      "cell_type": "code",
      "metadata": {
        "id": "qolLCdGiqz-d",
        "colab_type": "code",
        "colab": {}
      },
      "source": [
        "path_to_data='Fundamental_Data\\{}.csv'\n",
        "import datetime\n",
        "# pip install yfinance\n",
        "import yfinance as yf"
      ],
      "execution_count": 0,
      "outputs": []
    },
    {
      "cell_type": "markdown",
      "metadata": {
        "id": "gKEJtIZOtFs2",
        "colab_type": "text"
      },
      "source": [
        "Now the important script."
      ]
    },
    {
      "cell_type": "code",
      "metadata": {
        "id": "jGKuXIanrH7G",
        "colab_type": "code",
        "colab": {}
      },
      "source": [
        "for stock in stocks:\n",
        "    df=pd.read_csv(path_to_data.format(stock))\n",
        "    quarters=[i[:7] for i in df['Quarter end']]\n",
        "\n",
        "    first_date=df['Quarter end'][df.shape[0]-1]\n",
        "\n",
        "    if datetime.date(int(first_date.split('-')[0]),int(first_date.split('-')[1]),int(first_date.split('-')[2]))<datetime.date(2004,12,30):\n",
        "        help_dates=dates\n",
        "    else:\n",
        "        help_dates=dates[dates.index('{}-{}'.format(first_date.split('-')[0],first_date.split('-')[1])):]\n",
        "    \n",
        "    shares=[]\n",
        "    for date in help_dates:\n",
        "        if date in quarters:\n",
        "            shares.append(df['Shares'][quarters.index(date)])\n",
        "        else:\n",
        "            if len(shares) != 0:\n",
        "                shares.append(shares[-1])\n",
        "            else:\n",
        "                for i in quarters:\n",
        "                    if datetime.date(int(i.split('-')[0]),int(i.split('-')[1]),1)<datetime.date(int(date.split('-')[0]),int(date.split('-')[1]),2):\n",
        "                        shares.append(df['Shares'][quarters.index(i)])\n",
        "                        break\n",
        "\n",
        "    df=yf.download(stock,start='2004-11-30',progress=False)\n",
        "    stock_dates=[str(i).split()[0] for i in df.index]\n",
        "    stock_closes=[i for i in df['Close']]\n",
        "    \n",
        "    prices=[]\n",
        "    for date in help_dates:\n",
        "        closes=[]\n",
        "        for j in stock_dates:\n",
        "            if date in j:\n",
        "                closes.append(stock_closes[stock_dates.index(j)])\n",
        "        try:\n",
        "            prices.append(sum(closes)/len(closes))\n",
        "        except:\n",
        "            prices.append(0)\n",
        "            \n",
        "    market_cap=[prices[i]*shares[i] for i in range(len(shares))]\n",
        "    \n",
        "\n",
        "    save_df=pd.DataFrame()\n",
        "    save_df['Date']=help_dates\n",
        "    save_df['Number of shares']=shares\n",
        "    save_df['Average price']=prices\n",
        "    save_df['Market cap']=market_cap\n",
        "\n",
        "    save_df.to_csv(path_to_data.format(stock),index=False)"
      ],
      "execution_count": 0,
      "outputs": []
    },
    {
      "cell_type": "code",
      "metadata": {
        "id": "mtvPQeBxrsIm",
        "colab_type": "code",
        "colab": {
          "base_uri": "https://localhost:8080/",
          "height": 520
        },
        "outputId": "8cba2010-bd1e-4712-d83f-52ae579e5f7a"
      },
      "source": [
        "pd.read_csv('Fundamental_Data\\AAPL.csv').head(15) #Example"
      ],
      "execution_count": 78,
      "outputs": [
        {
          "output_type": "execute_result",
          "data": {
            "text/html": [
              "<div>\n",
              "<style scoped>\n",
              "    .dataframe tbody tr th:only-of-type {\n",
              "        vertical-align: middle;\n",
              "    }\n",
              "\n",
              "    .dataframe tbody tr th {\n",
              "        vertical-align: top;\n",
              "    }\n",
              "\n",
              "    .dataframe thead th {\n",
              "        text-align: right;\n",
              "    }\n",
              "</style>\n",
              "<table border=\"1\" class=\"dataframe\">\n",
              "  <thead>\n",
              "    <tr style=\"text-align: right;\">\n",
              "      <th></th>\n",
              "      <th>Date</th>\n",
              "      <th>Number of shares</th>\n",
              "      <th>Average price</th>\n",
              "      <th>Market cap</th>\n",
              "    </tr>\n",
              "  </thead>\n",
              "  <tbody>\n",
              "    <tr>\n",
              "      <th>0</th>\n",
              "      <td>2004-12</td>\n",
              "      <td>408585970</td>\n",
              "      <td>4.607045</td>\n",
              "      <td>1.882374e+09</td>\n",
              "    </tr>\n",
              "    <tr>\n",
              "      <th>1</th>\n",
              "      <td>2005-01</td>\n",
              "      <td>408585970</td>\n",
              "      <td>4.944893</td>\n",
              "      <td>2.020414e+09</td>\n",
              "    </tr>\n",
              "    <tr>\n",
              "      <th>2</th>\n",
              "      <td>2005-02</td>\n",
              "      <td>408585970</td>\n",
              "      <td>5.980865</td>\n",
              "      <td>2.443697e+09</td>\n",
              "    </tr>\n",
              "    <tr>\n",
              "      <th>3</th>\n",
              "      <td>2005-03</td>\n",
              "      <td>823933916</td>\n",
              "      <td>5.999675</td>\n",
              "      <td>4.943336e+09</td>\n",
              "    </tr>\n",
              "    <tr>\n",
              "      <th>4</th>\n",
              "      <td>2005-04</td>\n",
              "      <td>823933916</td>\n",
              "      <td>5.532993</td>\n",
              "      <td>4.558821e+09</td>\n",
              "    </tr>\n",
              "    <tr>\n",
              "      <th>5</th>\n",
              "      <td>2005-05</td>\n",
              "      <td>823933916</td>\n",
              "      <td>5.331701</td>\n",
              "      <td>4.392969e+09</td>\n",
              "    </tr>\n",
              "    <tr>\n",
              "      <th>6</th>\n",
              "      <td>2005-06</td>\n",
              "      <td>829829296</td>\n",
              "      <td>5.370130</td>\n",
              "      <td>4.456291e+09</td>\n",
              "    </tr>\n",
              "    <tr>\n",
              "      <th>7</th>\n",
              "      <td>2005-07</td>\n",
              "      <td>829829296</td>\n",
              "      <td>5.844429</td>\n",
              "      <td>4.849878e+09</td>\n",
              "    </tr>\n",
              "    <tr>\n",
              "      <th>8</th>\n",
              "      <td>2005-08</td>\n",
              "      <td>829829296</td>\n",
              "      <td>6.437888</td>\n",
              "      <td>5.342348e+09</td>\n",
              "    </tr>\n",
              "    <tr>\n",
              "      <th>9</th>\n",
              "      <td>2005-09</td>\n",
              "      <td>842767948</td>\n",
              "      <td>7.287823</td>\n",
              "      <td>6.141944e+09</td>\n",
              "    </tr>\n",
              "    <tr>\n",
              "      <th>10</th>\n",
              "      <td>2005-10</td>\n",
              "      <td>842767948</td>\n",
              "      <td>7.705442</td>\n",
              "      <td>6.493900e+09</td>\n",
              "    </tr>\n",
              "    <tr>\n",
              "      <th>11</th>\n",
              "      <td>2005-11</td>\n",
              "      <td>842767948</td>\n",
              "      <td>9.079456</td>\n",
              "      <td>7.651874e+09</td>\n",
              "    </tr>\n",
              "    <tr>\n",
              "      <th>12</th>\n",
              "      <td>2005-12</td>\n",
              "      <td>848612359</td>\n",
              "      <td>10.429592</td>\n",
              "      <td>8.850681e+09</td>\n",
              "    </tr>\n",
              "    <tr>\n",
              "      <th>13</th>\n",
              "      <td>2006-01</td>\n",
              "      <td>848612359</td>\n",
              "      <td>11.115714</td>\n",
              "      <td>9.432933e+09</td>\n",
              "    </tr>\n",
              "    <tr>\n",
              "      <th>14</th>\n",
              "      <td>2006-02</td>\n",
              "      <td>848612359</td>\n",
              "      <td>9.931278</td>\n",
              "      <td>8.427805e+09</td>\n",
              "    </tr>\n",
              "  </tbody>\n",
              "</table>\n",
              "</div>"
            ],
            "text/plain": [
              "       Date  Number of shares  Average price    Market cap\n",
              "0   2004-12         408585970       4.607045  1.882374e+09\n",
              "1   2005-01         408585970       4.944893  2.020414e+09\n",
              "2   2005-02         408585970       5.980865  2.443697e+09\n",
              "3   2005-03         823933916       5.999675  4.943336e+09\n",
              "4   2005-04         823933916       5.532993  4.558821e+09\n",
              "5   2005-05         823933916       5.331701  4.392969e+09\n",
              "6   2005-06         829829296       5.370130  4.456291e+09\n",
              "7   2005-07         829829296       5.844429  4.849878e+09\n",
              "8   2005-08         829829296       6.437888  5.342348e+09\n",
              "9   2005-09         842767948       7.287823  6.141944e+09\n",
              "10  2005-10         842767948       7.705442  6.493900e+09\n",
              "11  2005-11         842767948       9.079456  7.651874e+09\n",
              "12  2005-12         848612359      10.429592  8.850681e+09\n",
              "13  2006-01         848612359      11.115714  9.432933e+09\n",
              "14  2006-02         848612359       9.931278  8.427805e+09"
            ]
          },
          "metadata": {
            "tags": []
          },
          "execution_count": 78
        }
      ]
    },
    {
      "cell_type": "markdown",
      "metadata": {
        "id": "4gg2FIwntCLH",
        "colab_type": "text"
      },
      "source": [
        "It worked."
      ]
    },
    {
      "cell_type": "markdown",
      "metadata": {
        "id": "UDD8SlxbtoX8",
        "colab_type": "text"
      },
      "source": [
        "## Step 3: Rank them."
      ]
    },
    {
      "cell_type": "markdown",
      "metadata": {
        "id": "0-d6v9c8t2QZ",
        "colab_type": "text"
      },
      "source": [
        "We are going to create a dictionary, that will store stocks as keys and rank of market cap as values."
      ]
    },
    {
      "cell_type": "code",
      "metadata": {
        "id": "G21z61qps6of",
        "colab_type": "code",
        "colab": {}
      },
      "source": [
        "everything_saved={}\n",
        "for stock in stocks:\n",
        "    everything_saved[stock]=[]"
      ],
      "execution_count": 0,
      "outputs": []
    },
    {
      "cell_type": "markdown",
      "metadata": {
        "id": "C1jIDyZUuIs8",
        "colab_type": "text"
      },
      "source": [
        "Now we make the script to store data into that dictionary."
      ]
    },
    {
      "cell_type": "code",
      "metadata": {
        "id": "yNlnDX_QuEwU",
        "colab_type": "code",
        "colab": {}
      },
      "source": [
        "for date in dates:\n",
        "    stocks_of_that_date=[]\n",
        "    market_caps_of_that_date=[]\n",
        "    for stock in stocks:\n",
        "        df=pd.read_csv(path_to_data.format(stock))\n",
        "        try:\n",
        "            help_list=[i for i in df['Date']]\n",
        "            m=df['Market cap'][help_list.index(date)]\n",
        "            market_caps_of_that_date.append(m)\n",
        "            stocks_of_that_date.append(stock)\n",
        "        except:\n",
        "            pass\n",
        "        \n",
        "    test=pd.DataFrame()\n",
        "    test['Ticker']=stocks_of_that_date\n",
        "    test['Market Cap']=market_caps_of_that_date\n",
        "    test.sort_values(by=['Market Cap'],inplace=True,ascending=False)\n",
        "    test.reset_index(drop=True,inplace=True)\n",
        "\n",
        "    final=[i for i in test['Ticker']]\n",
        "    \n",
        "    for stock in stocks:\n",
        "        try:\n",
        "            everything_saved[stock].append(final.index(stock))\n",
        "        except:\n",
        "            pass"
      ],
      "execution_count": 0,
      "outputs": []
    },
    {
      "cell_type": "markdown",
      "metadata": {
        "id": "wFVivhosuvqQ",
        "colab_type": "text"
      },
      "source": [
        "So now everything is stored in that dictionary. Now we would like to move it to that csv files above."
      ]
    },
    {
      "cell_type": "code",
      "metadata": {
        "id": "f1uR8_5vuRQz",
        "colab_type": "code",
        "colab": {}
      },
      "source": [
        "for stock in stocks:\n",
        "    df=pd.read_csv(path_to_data.format(stock))\n",
        "    try:\n",
        "        df['Market cap rank']=everything_saved[stock]\n",
        "        df.to_csv(path_to_data.format(stock),index=False)\n",
        "    except:\n",
        "        print(stock)"
      ],
      "execution_count": 0,
      "outputs": []
    },
    {
      "cell_type": "markdown",
      "metadata": {
        "id": "NKOkcS_OvL1b",
        "colab_type": "text"
      },
      "source": [
        "Keep in mind that the Market cap rank compares the stock to the other 9, not all the equities. That is why the market cap rank is so high!"
      ]
    },
    {
      "cell_type": "code",
      "metadata": {
        "id": "sOBmhthvvCEW",
        "colab_type": "code",
        "colab": {
          "base_uri": "https://localhost:8080/",
          "height": 520
        },
        "outputId": "2c092338-8aea-4beb-e0f4-7abb5ad10ae7"
      },
      "source": [
        "pd.read_csv('Fundamental_Data\\AAPL.csv').head(15) #Example"
      ],
      "execution_count": 82,
      "outputs": [
        {
          "output_type": "execute_result",
          "data": {
            "text/html": [
              "<div>\n",
              "<style scoped>\n",
              "    .dataframe tbody tr th:only-of-type {\n",
              "        vertical-align: middle;\n",
              "    }\n",
              "\n",
              "    .dataframe tbody tr th {\n",
              "        vertical-align: top;\n",
              "    }\n",
              "\n",
              "    .dataframe thead th {\n",
              "        text-align: right;\n",
              "    }\n",
              "</style>\n",
              "<table border=\"1\" class=\"dataframe\">\n",
              "  <thead>\n",
              "    <tr style=\"text-align: right;\">\n",
              "      <th></th>\n",
              "      <th>Date</th>\n",
              "      <th>Number of shares</th>\n",
              "      <th>Average price</th>\n",
              "      <th>Market cap</th>\n",
              "      <th>Market cap rank</th>\n",
              "    </tr>\n",
              "  </thead>\n",
              "  <tbody>\n",
              "    <tr>\n",
              "      <th>0</th>\n",
              "      <td>2004-12</td>\n",
              "      <td>408585970</td>\n",
              "      <td>4.607045</td>\n",
              "      <td>1.882374e+09</td>\n",
              "      <td>5</td>\n",
              "    </tr>\n",
              "    <tr>\n",
              "      <th>1</th>\n",
              "      <td>2005-01</td>\n",
              "      <td>408585970</td>\n",
              "      <td>4.944893</td>\n",
              "      <td>2.020414e+09</td>\n",
              "      <td>5</td>\n",
              "    </tr>\n",
              "    <tr>\n",
              "      <th>2</th>\n",
              "      <td>2005-02</td>\n",
              "      <td>408585970</td>\n",
              "      <td>5.980865</td>\n",
              "      <td>2.443697e+09</td>\n",
              "      <td>5</td>\n",
              "    </tr>\n",
              "    <tr>\n",
              "      <th>3</th>\n",
              "      <td>2005-03</td>\n",
              "      <td>823933916</td>\n",
              "      <td>5.999675</td>\n",
              "      <td>4.943336e+09</td>\n",
              "      <td>5</td>\n",
              "    </tr>\n",
              "    <tr>\n",
              "      <th>4</th>\n",
              "      <td>2005-04</td>\n",
              "      <td>823933916</td>\n",
              "      <td>5.532993</td>\n",
              "      <td>4.558821e+09</td>\n",
              "      <td>5</td>\n",
              "    </tr>\n",
              "    <tr>\n",
              "      <th>5</th>\n",
              "      <td>2005-05</td>\n",
              "      <td>823933916</td>\n",
              "      <td>5.331701</td>\n",
              "      <td>4.392969e+09</td>\n",
              "      <td>5</td>\n",
              "    </tr>\n",
              "    <tr>\n",
              "      <th>6</th>\n",
              "      <td>2005-06</td>\n",
              "      <td>829829296</td>\n",
              "      <td>5.370130</td>\n",
              "      <td>4.456291e+09</td>\n",
              "      <td>5</td>\n",
              "    </tr>\n",
              "    <tr>\n",
              "      <th>7</th>\n",
              "      <td>2005-07</td>\n",
              "      <td>829829296</td>\n",
              "      <td>5.844429</td>\n",
              "      <td>4.849878e+09</td>\n",
              "      <td>5</td>\n",
              "    </tr>\n",
              "    <tr>\n",
              "      <th>8</th>\n",
              "      <td>2005-08</td>\n",
              "      <td>829829296</td>\n",
              "      <td>6.437888</td>\n",
              "      <td>5.342348e+09</td>\n",
              "      <td>5</td>\n",
              "    </tr>\n",
              "    <tr>\n",
              "      <th>9</th>\n",
              "      <td>2005-09</td>\n",
              "      <td>842767948</td>\n",
              "      <td>7.287823</td>\n",
              "      <td>6.141944e+09</td>\n",
              "      <td>5</td>\n",
              "    </tr>\n",
              "    <tr>\n",
              "      <th>10</th>\n",
              "      <td>2005-10</td>\n",
              "      <td>842767948</td>\n",
              "      <td>7.705442</td>\n",
              "      <td>6.493900e+09</td>\n",
              "      <td>5</td>\n",
              "    </tr>\n",
              "    <tr>\n",
              "      <th>11</th>\n",
              "      <td>2005-11</td>\n",
              "      <td>842767948</td>\n",
              "      <td>9.079456</td>\n",
              "      <td>7.651874e+09</td>\n",
              "      <td>5</td>\n",
              "    </tr>\n",
              "    <tr>\n",
              "      <th>12</th>\n",
              "      <td>2005-12</td>\n",
              "      <td>848612359</td>\n",
              "      <td>10.429592</td>\n",
              "      <td>8.850681e+09</td>\n",
              "      <td>5</td>\n",
              "    </tr>\n",
              "    <tr>\n",
              "      <th>13</th>\n",
              "      <td>2006-01</td>\n",
              "      <td>848612359</td>\n",
              "      <td>11.115714</td>\n",
              "      <td>9.432933e+09</td>\n",
              "      <td>5</td>\n",
              "    </tr>\n",
              "    <tr>\n",
              "      <th>14</th>\n",
              "      <td>2006-02</td>\n",
              "      <td>848612359</td>\n",
              "      <td>9.931278</td>\n",
              "      <td>8.427805e+09</td>\n",
              "      <td>5</td>\n",
              "    </tr>\n",
              "  </tbody>\n",
              "</table>\n",
              "</div>"
            ],
            "text/plain": [
              "       Date  Number of shares  Average price    Market cap  Market cap rank\n",
              "0   2004-12         408585970       4.607045  1.882374e+09                5\n",
              "1   2005-01         408585970       4.944893  2.020414e+09                5\n",
              "2   2005-02         408585970       5.980865  2.443697e+09                5\n",
              "3   2005-03         823933916       5.999675  4.943336e+09                5\n",
              "4   2005-04         823933916       5.532993  4.558821e+09                5\n",
              "5   2005-05         823933916       5.331701  4.392969e+09                5\n",
              "6   2005-06         829829296       5.370130  4.456291e+09                5\n",
              "7   2005-07         829829296       5.844429  4.849878e+09                5\n",
              "8   2005-08         829829296       6.437888  5.342348e+09                5\n",
              "9   2005-09         842767948       7.287823  6.141944e+09                5\n",
              "10  2005-10         842767948       7.705442  6.493900e+09                5\n",
              "11  2005-11         842767948       9.079456  7.651874e+09                5\n",
              "12  2005-12         848612359      10.429592  8.850681e+09                5\n",
              "13  2006-01         848612359      11.115714  9.432933e+09                5\n",
              "14  2006-02         848612359       9.931278  8.427805e+09                5"
            ]
          },
          "metadata": {
            "tags": []
          },
          "execution_count": 82
        }
      ]
    },
    {
      "cell_type": "markdown",
      "metadata": {
        "id": "PLw_8DINx1Ms",
        "colab_type": "text"
      },
      "source": [
        "## Step 4: Create final file"
      ]
    },
    {
      "cell_type": "code",
      "metadata": {
        "id": "gxs6fQe_vKBW",
        "colab_type": "code",
        "colab": {}
      },
      "source": [
        "for stock in stocks:\n",
        "    df=pd.read_csv(path_to_data.format(stock))\n",
        "    stock_data=yf.download(stock,\n",
        "                           start='{}-02'.format(df['Date'][0]),\n",
        "                           end='2019-12-31',\n",
        "                           progress=False)\n",
        "    dates=[str(i)[:10] for i in stock_data.index]\n",
        "    closes=[i for i in stock_data['Close']]\n",
        "    help_list=[i for i in df['Date']]\n",
        "    ranks=[df['Market cap rank'][help_list.index(i[:7])] for i in dates]\n",
        "\n",
        "    save=pd.DataFrame()\n",
        "    save['Date']=dates\n",
        "    save['Close']=closes\n",
        "    save['Rank']=ranks\n",
        "    save.to_csv('Data\\{}.csv'.format(stock),index=False)"
      ],
      "execution_count": 0,
      "outputs": []
    },
    {
      "cell_type": "code",
      "metadata": {
        "id": "5oXJTvH1yWNl",
        "colab_type": "code",
        "colab": {
          "base_uri": "https://localhost:8080/",
          "height": 206
        },
        "outputId": "3b6d63f7-29a3-474b-8968-ddc3c7632c3a"
      },
      "source": [
        "pd.read_csv('Data\\\\AAPL.csv').tail(5)"
      ],
      "execution_count": 88,
      "outputs": [
        {
          "output_type": "execute_result",
          "data": {
            "text/html": [
              "<div>\n",
              "<style scoped>\n",
              "    .dataframe tbody tr th:only-of-type {\n",
              "        vertical-align: middle;\n",
              "    }\n",
              "\n",
              "    .dataframe tbody tr th {\n",
              "        vertical-align: top;\n",
              "    }\n",
              "\n",
              "    .dataframe thead th {\n",
              "        text-align: right;\n",
              "    }\n",
              "</style>\n",
              "<table border=\"1\" class=\"dataframe\">\n",
              "  <thead>\n",
              "    <tr style=\"text-align: right;\">\n",
              "      <th></th>\n",
              "      <th>Date</th>\n",
              "      <th>Close</th>\n",
              "      <th>Rank</th>\n",
              "    </tr>\n",
              "  </thead>\n",
              "  <tbody>\n",
              "    <tr>\n",
              "      <th>3790</th>\n",
              "      <td>2019-12-23</td>\n",
              "      <td>284.000000</td>\n",
              "      <td>0</td>\n",
              "    </tr>\n",
              "    <tr>\n",
              "      <th>3791</th>\n",
              "      <td>2019-12-24</td>\n",
              "      <td>284.269989</td>\n",
              "      <td>0</td>\n",
              "    </tr>\n",
              "    <tr>\n",
              "      <th>3792</th>\n",
              "      <td>2019-12-26</td>\n",
              "      <td>289.910004</td>\n",
              "      <td>0</td>\n",
              "    </tr>\n",
              "    <tr>\n",
              "      <th>3793</th>\n",
              "      <td>2019-12-27</td>\n",
              "      <td>289.799988</td>\n",
              "      <td>0</td>\n",
              "    </tr>\n",
              "    <tr>\n",
              "      <th>3794</th>\n",
              "      <td>2019-12-30</td>\n",
              "      <td>291.519989</td>\n",
              "      <td>0</td>\n",
              "    </tr>\n",
              "  </tbody>\n",
              "</table>\n",
              "</div>"
            ],
            "text/plain": [
              "            Date       Close  Rank\n",
              "3790  2019-12-23  284.000000     0\n",
              "3791  2019-12-24  284.269989     0\n",
              "3792  2019-12-26  289.910004     0\n",
              "3793  2019-12-27  289.799988     0\n",
              "3794  2019-12-30  291.519989     0"
            ]
          },
          "metadata": {
            "tags": []
          },
          "execution_count": 88
        }
      ]
    }
  ]
}
